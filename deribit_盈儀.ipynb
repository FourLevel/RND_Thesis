{
 "cells": [
  {
   "cell_type": "code",
   "execution_count": 1,
   "id": "eb4c85a3-25ac-47f1-b915-4fd181f00c9e",
   "metadata": {},
   "outputs": [
    {
     "name": "stdout",
     "output_type": "stream",
     "text": [
      "Downloaded 999 trades, total: 999\n"
     ]
    }
   ],
   "source": [
    "import requests\n",
    "import time\n",
    "\n",
    "# Deribit API URL\n",
    "url = \"https://www.deribit.com/api/v2/public/get_last_trades_by_instrument_and_time\"\n",
    "\n",
    "# 請根據需要修改參數\n",
    "instrument_name = \"BTC-PERPETUAL\"  # 交易對名稱，這裡使用 BTC 永續合約\n",
    "start_timestamp = 1672531200000  # 2023年1月1日 00:00:00 UTC 的毫秒時間戳\n",
    "end_timestamp = 1704067199000  # 2023年12月31日 23:59:59 UTC 的毫秒時間戳\n",
    "max_limit = 1000  # 每次 API 請求最多返回的數據條數\n",
    "\n",
    "# 存儲所有交易數據\n",
    "all_trades = []\n",
    "\n",
    "while start_timestamp < end_timestamp:\n",
    "    # 構建 API 請求的參數\n",
    "    params = {\n",
    "        \"instrument_name\": instrument_name,\n",
    "        \"start_timestamp\": start_timestamp,\n",
    "        \"count\": max_limit\n",
    "    }\n",
    "\n",
    "    # 發送請求\n",
    "    response = requests.get(url, params=params)\n",
    "    data = response.json()\n",
    "\n",
    "    # 檢查是否成功返回數據\n",
    "    if \"result\" in data and len(data['result']['trades']) > 0:\n",
    "        trades = data['result']['trades']\n",
    "        all_trades.extend(trades)\n",
    "\n",
    "        # 更新起始時間，使用最後一條交易的時間作為新的起點\n",
    "        start_timestamp = trades[-1]['timestamp'] + 1\n",
    "\n",
    "        # 打印已下載的數據數量\n",
    "        print(f\"Downloaded {len(trades)} trades, total: {len(all_trades)}\")\n",
    "\n",
    "        # 避免頻繁請求，設置一定的延遲\n",
    "        time.sleep(0.5)\n",
    "    else:\n",
    "        print(\"No more trades or reached the end.\")\n",
    "        break\n",
    "\n",
    "\n",
    "import pandas as pd\n",
    "\n",
    "df = pd.DataFrame(all_trades)\n",
    "\n",
    "# df.to_csv(r\"D:\\bitcoin_trades.csv\", index=False)"
   ]
  }
 ],
 "metadata": {
  "kernelspec": {
   "display_name": "Python 3 (ipykernel)",
   "language": "python",
   "name": "python3"
  },
  "language_info": {
   "codemirror_mode": {
    "name": "ipython",
    "version": 3
   },
   "file_extension": ".py",
   "mimetype": "text/x-python",
   "name": "python",
   "nbconvert_exporter": "python",
   "pygments_lexer": "ipython3",
   "version": "3.12.4"
  }
 },
 "nbformat": 4,
 "nbformat_minor": 5
}
